{
 "cells": [
  {
   "cell_type": "code",
   "execution_count": 211,
   "metadata": {},
   "outputs": [],
   "source": [
    "import requests\n",
    "import pandas as pd\n",
    "import os\n",
    "\n"
   ]
  },
  {
   "cell_type": "markdown",
   "metadata": {},
   "source": [
    "# NY Times\n",
    "[In Dev - still need to refine)"
   ]
  },
  {
   "cell_type": "code",
   "execution_count": 32,
   "metadata": {},
   "outputs": [
    {
     "data": {
      "text/plain": [
       "'https://api.nytimes.com/svc/search/v2/articlesearch.json?q=Rishi&fq=headline&api-key=UD0AMQO6GY7mj3LEtk2EWGYMXMIKqI4r'"
      ]
     },
     "execution_count": 32,
     "metadata": {},
     "output_type": "execute_result"
    }
   ],
   "source": [
    "search = 'Stuff'\n",
    "filter = 'headline'\n",
    "url = 'https://api.nytimes.com/svc/search/v2/articlesearch.json?q={}&fq={}&api-key={}'.format(search,filter,api)\n",
    "# request = requests.get(url)\n",
    "# json = request.json()\n",
    "# pd.json_normalize(json) #https://countwordsfree.com/jsonviewer\n",
    "# json\n",
    "url"
   ]
  },
  {
   "cell_type": "markdown",
   "metadata": {},
   "source": [
    "# Currents - News Aggregator API\n",
    "[In Dev - still need to refine)"
   ]
  },
  {
   "cell_type": "code",
   "execution_count": null,
   "metadata": {},
   "outputs": [],
   "source": [
    "# https://currentsapi.services/en/docs/search\n",
    "apikey = api\n",
    "category = \"business\"\n",
    "language = \"en\" #languages['English']  # Mapping from Language to Code, e.g.: \"English\": \"en\"\n",
    "country = \"US\" #regions[\"Canada\"]  # Mapping from Country to Code, e.g.: \"Canada\": \"CA\",\n",
    "keywords = \"bitcoin\"\n",
    "t = \"1\"  # 1 for news, 2 for article and 3 for discussion content\n",
    "domain = \"financialpost.com\"  # website primary domain name (without www or blog prefix)\n",
    "start_date = \"2021-01-01\"  # YYYY-MM-DDTHH:MM:SS+00:00\n",
    "query_url = f\"https://api.currentsapi.services/v1/search?\" \\\n",
    "            f\"apiKey={apikey}\" \\\n",
    "            f\"&language={language}\" \\\n",
    "            f\"&category={category}\" \\\n",
    "            f\"&country={country}\" \\\n",
    "            f\"&type={t}\" \\\n",
    "            f\"&domain={domain}\" \\\n",
    "            f\"&keywords={keywords}\" \\\n",
    "            f\"&start_date={start_date}\"\n",
    "\n",
    "r = requests.get(query_url)\n",
    "pprint(r.json())"
   ]
  },
  {
   "cell_type": "markdown",
   "metadata": {},
   "source": [
    "# The Guardian API\n",
    "[In Dev - still need to refine)\n",
    "\n",
    "source: https://open-platform.theguardian.com/documentation/"
   ]
  },
  {
   "cell_type": "code",
   "execution_count": 229,
   "metadata": {},
   "outputs": [],
   "source": [
    "url = \"https://content.guardianapis.com/search?\\\n",
    "q=%22unilever%22&page=1&page-size=200&\\\n",
    "order-by=newest&from-date=2021-01-01&\\\n",
    "api-key={}\".format(guardian_api)\n",
    "\n",
    "def left(s, amount):\n",
    "    return s[:amount]\n",
    "\n",
    "def getTitles(url):\n",
    "#     # get all News Titles\n",
    "    response = requests.request(\"GET\", url)\n",
    "    a=response.json()['response']['results']\n",
    "    results = []\n",
    "    for result in a:\n",
    "        results.append(\"{url}\".format(url=result[\"webTitle\"]))\n",
    "#         results.append(\"{id}/{date} - {url}\" .format(id=result[\"sectionName\"], url=result[\"webTitle\"], date=left(result[\"webPublicationDate\"],10)))\n",
    "    return results\n",
    "\n",
    "# getTitles(url)\n",
    "\n",
    "# response = requests.request(\"GET\", url)\n",
    "# a=response.json()['response']['results']\n",
    "response_tbl = pd.json_normalize(a)\n",
    "# response_tbl"
   ]
  },
  {
   "cell_type": "code",
   "execution_count": null,
   "metadata": {},
   "outputs": [],
   "source": [
    "# create content\n",
    "content = Content(api=guardian_api,headers='bitcoin')\n",
    "\n",
    "# gets raw_response\n",
    "raw_content = content.get_request_response()\n",
    "print(\"Request Response status code {status}.\" .format(status=raw_content.status_code))\n",
    "print(\"Request Response headers {header}.\" .format(header=raw_content.headers))\n",
    "\n",
    "# content\n",
    "print(\"Content Response headers {}.\" .format(content.response_headers()))\n",
    "\n",
    "# get all results of a page\n",
    "json_content = content.get_content_response()\n",
    "all_results = content.get_results(json_content)\n",
    "print(\"All results {}.\" .format(all_results))\n",
    "\n",
    "# actual response\n",
    "print(\"Response {response}\" .format(response=json_content))"
   ]
  },
  {
   "cell_type": "code",
   "execution_count": 273,
   "metadata": {},
   "outputs": [
    {
     "name": "stdout",
     "output_type": "stream",
     "text": [
      "https://content.guardianapis.com/search?q=%22bitcoin%22&page=1&page-size=200&order-by=newest&from-date=2021-02-01&api-key=34ed4c23-c02c-49dd-a7cf-156d0433f156\n",
      "Positive headlines:\n",
      "\n",
      "['Readers reply: how can the economy grow year on year without limit – and why is this desirable?',\n",
      " \"Bitcoin's market value exceeds $1tn after price soars\",\n",
      " 'Pound hits $1.40 on vaccine optimism; UK retail sales tumble 8.2% – as it happened',\n",
      " 'Sound baths, self-help and teeth-grinding optimism: my strange, disorienting week on Clubhouse | Brigid Delaney',\n",
      " ' Barclays resumes dividend as 2020 profit falls 30%; markets await US data – business live']\n"
     ]
    }
   ],
   "source": [
    "import nltk\n",
    "from nltk.sentiment.vader import SentimentIntensityAnalyzer as sia\n",
    "sia = SIA()\n",
    "results = []\n",
    "\n",
    "searchterm = 'bitcoin'\n",
    "fromdate = '2021-02-01'\n",
    "url = \"https://content.guardianapis.com/search?\\\n",
    "q=%22{}%22&page=1&page-size=200&\\\n",
    "order-by=newest&from-date={}&\\\n",
    "api-key={}\".format(searchterm,fromdate,guardian_api)\n",
    "print(url)\n",
    "headlines = getTitles(url)\n",
    "\n",
    "for line in headlines:\n",
    "    pol_score = sia.polarity_scores(line)\n",
    "    pol_score['headline'] = line\n",
    "    results.append(pol_score)\n",
    "\n",
    "# pprint(results[:3], width=100)\n",
    "df = pd.DataFrame.from_records(results)\n",
    "cols = df.columns.tolist()\n",
    "cols = cols[-1:] + cols[:-1]\n",
    "df[cols]\n",
    "\n",
    "#Label Positive, Neutral & Negative News\n",
    "df['label'] = 'Neutral'\n",
    "df.loc[df['compound'] > 0, 'label'] = 'Positive'\n",
    "df.loc[df['compound'] < 0, 'label'] = 'Negative'\n",
    "df.head()\n",
    "\n",
    "print(\"Positive headlines:\\n\")\n",
    "pprint(list(df[df['label'] == 'Positive'].headline)[:5], width=200)\n"
   ]
  }
 ],
 "metadata": {
  "kernelspec": {
   "display_name": "Python 3",
   "language": "python",
   "name": "python3"
  },
  "language_info": {
   "codemirror_mode": {
    "name": "ipython",
    "version": 3
   },
   "file_extension": ".py",
   "mimetype": "text/x-python",
   "name": "python",
   "nbconvert_exporter": "python",
   "pygments_lexer": "ipython3",
   "version": "3.7.9"
  }
 },
 "nbformat": 4,
 "nbformat_minor": 4
}
