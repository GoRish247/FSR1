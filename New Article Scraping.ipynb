{
 "cells": [
  {
   "cell_type": "code",
   "execution_count": 148,
   "metadata": {},
   "outputs": [],
   "source": [
    "import requests\n",
    "import pandas as pd\n",
    "import os\n"
   ]
  },
  {
   "cell_type": "markdown",
   "metadata": {},
   "source": [
    "# NY Times\n",
    "[In Dev - still need to refine)"
   ]
  },
  {
   "cell_type": "code",
   "execution_count": 32,
   "metadata": {},
   "outputs": [
    {
     "data": {
      "text/plain": [
       "'https://api.nytimes.com/svc/search/v2/articlesearch.json?q=Rishi&fq=headline&api-key=UD0AMQO6GY7mj3LEtk2EWGYMXMIKqI4r'"
      ]
     },
     "execution_count": 32,
     "metadata": {},
     "output_type": "execute_result"
    }
   ],
   "source": [
    "search = 'Stuff'\n",
    "filter = 'headline'\n",
    "url = 'https://api.nytimes.com/svc/search/v2/articlesearch.json?q={}&fq={}&api-key={}'.format(search,filter,api)\n",
    "# request = requests.get(url)\n",
    "# json = request.json()\n",
    "# pd.json_normalize(json) #https://countwordsfree.com/jsonviewer\n",
    "# json\n",
    "url"
   ]
  },
  {
   "cell_type": "markdown",
   "metadata": {},
   "source": [
    "# Currents - News Aggregator API\n",
    "[In Dev - still need to refine)"
   ]
  },
  {
   "cell_type": "code",
   "execution_count": null,
   "metadata": {},
   "outputs": [],
   "source": [
    "# https://currentsapi.services/en/docs/search\n",
    "apikey = api\n",
    "category = \"business\"\n",
    "language = \"en\" #languages['English']  # Mapping from Language to Code, e.g.: \"English\": \"en\"\n",
    "country = \"US\" #regions[\"Canada\"]  # Mapping from Country to Code, e.g.: \"Canada\": \"CA\",\n",
    "keywords = \"bitcoin\"\n",
    "t = \"1\"  # 1 for news, 2 for article and 3 for discussion content\n",
    "domain = \"financialpost.com\"  # website primary domain name (without www or blog prefix)\n",
    "start_date = \"2021-01-01\"  # YYYY-MM-DDTHH:MM:SS+00:00\n",
    "query_url = f\"https://api.currentsapi.services/v1/search?\" \\\n",
    "            f\"apiKey={apikey}\" \\\n",
    "            f\"&language={language}\" \\\n",
    "            f\"&category={category}\" \\\n",
    "            f\"&country={country}\" \\\n",
    "            f\"&type={t}\" \\\n",
    "            f\"&domain={domain}\" \\\n",
    "            f\"&keywords={keywords}\" \\\n",
    "            f\"&start_date={start_date}\"\n",
    "\n",
    "r = requests.get(query_url)\n",
    "pprint(r.json())"
   ]
  },
  {
   "cell_type": "markdown",
   "metadata": {},
   "source": [
    "# The Guardian API\n",
    "[In Dev - still need to refine)\n",
    "\n",
    "source: https://open-platform.theguardian.com/documentation/"
   ]
  },
  {
   "cell_type": "code",
   "execution_count": null,
   "metadata": {},
   "outputs": [],
   "source": [
    "url = \"https://content.guardianapis.com/search?\\\n",
    "q=%22bitcoin%22&page=1&page-size=200&\\\n",
    "order-by=newest&from-date=2021-01-01&\\\n",
    "api-key={}\".format(guardian_api)\n",
    "\n",
    "def left(s, amount):\n",
    "    return s[:amount]\n",
    "\n",
    "def getTitles(url):\n",
    "#     # get all News Titles\n",
    "    response = requests.request(\"GET\", url)\n",
    "    a=response.json()['response']['results']\n",
    "    results = []\n",
    "    for result in a:\n",
    "        results.append(\"{id}/{date} - {url}\" .format(id=result[\"sectionName\"], url=result[\"webTitle\"], date=left(result[\"webPublicationDate\"],10)))\n",
    "    return results\n",
    "\n",
    "# getTitles(url)\n",
    "\n",
    "# response = requests.request(\"GET\", url)\n",
    "# a=response.json()['response']['results']\n",
    "response_tbl = pd.json_normalize(a)\n",
    "response_tbl"
   ]
  },
  {
   "cell_type": "code",
   "execution_count": null,
   "metadata": {},
   "outputs": [],
   "source": [
    "# create content\n",
    "content = Content(api=guardian_api,headers='bitcoin')\n",
    "\n",
    "# gets raw_response\n",
    "raw_content = content.get_request_response()\n",
    "print(\"Request Response status code {status}.\" .format(status=raw_content.status_code))\n",
    "print(\"Request Response headers {header}.\" .format(header=raw_content.headers))\n",
    "\n",
    "# content\n",
    "print(\"Content Response headers {}.\" .format(content.response_headers()))\n",
    "\n",
    "# get all results of a page\n",
    "json_content = content.get_content_response()\n",
    "all_results = content.get_results(json_content)\n",
    "print(\"All results {}.\" .format(all_results))\n",
    "\n",
    "# actual response\n",
    "print(\"Response {response}\" .format(response=json_content))"
   ]
  }
 ],
 "metadata": {
  "kernelspec": {
   "display_name": "Python 3",
   "language": "python",
   "name": "python3"
  },
  "language_info": {
   "codemirror_mode": {
    "name": "ipython",
    "version": 3
   },
   "file_extension": ".py",
   "mimetype": "text/x-python",
   "name": "python",
   "nbconvert_exporter": "python",
   "pygments_lexer": "ipython3",
   "version": "3.7.9"
  }
 },
 "nbformat": 4,
 "nbformat_minor": 4
}
