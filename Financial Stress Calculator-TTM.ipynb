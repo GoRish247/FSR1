{
 "cells": [
  {
   "cell_type": "markdown",
   "metadata": {},
   "source": [
    "# Environment Setup\n",
    "Load packages & define parameters"
   ]
  },
  {
   "cell_type": "code",
   "execution_count": 101,
   "metadata": {},
   "outputs": [],
   "source": [
    "import requests\n",
    "import pandas as pd\n",
    "import matplotlib.pyplot as plt\n",
    "import numpy as np\n",
    "pd.set_option('display.max_columns', None) #increase column width to unlimited\n",
    "pd.set_option('display.max_rows', 50)\n",
    "# !pip install yfinance\n",
    "import yfinance as yf\n",
    "from datetime import datetime\n",
    "from yahoo_fin import stock_info as si\n",
    "# Get market cap from here: https://api.tiingo.com/documentation/fundamentals\n",
    "\n",
    "apikey = ''\n",
    "url = \"https://www.alphavantage.co/query\"\n",
    "stock = 'NNDM'"
   ]
  },
  {
   "cell_type": "markdown",
   "metadata": {},
   "source": [
    "# Company Financial information\n",
    "Summary figures from most recent filing"
   ]
  },
  {
   "cell_type": "code",
   "execution_count": 119,
   "metadata": {},
   "outputs": [
    {
     "data": {
      "text/html": [
       "<div>\n",
       "<style scoped>\n",
       "    .dataframe tbody tr th:only-of-type {\n",
       "        vertical-align: middle;\n",
       "    }\n",
       "\n",
       "    .dataframe tbody tr th {\n",
       "        vertical-align: top;\n",
       "    }\n",
       "\n",
       "    .dataframe thead th {\n",
       "        text-align: right;\n",
       "    }\n",
       "</style>\n",
       "<table border=\"1\" class=\"dataframe\">\n",
       "  <thead>\n",
       "    <tr style=\"text-align: right;\">\n",
       "      <th></th>\n",
       "      <th>Symbol</th>\n",
       "      <th>AssetType</th>\n",
       "      <th>Name</th>\n",
       "      <th>Description</th>\n",
       "      <th>Exchange</th>\n",
       "      <th>Currency</th>\n",
       "      <th>Country</th>\n",
       "      <th>Sector</th>\n",
       "      <th>Industry</th>\n",
       "      <th>Address</th>\n",
       "      <th>FullTimeEmployees</th>\n",
       "      <th>FiscalYearEnd</th>\n",
       "      <th>LatestQuarter</th>\n",
       "      <th>MarketCapitalization</th>\n",
       "      <th>EBITDA</th>\n",
       "      <th>PERatio</th>\n",
       "      <th>PEGRatio</th>\n",
       "      <th>BookValue</th>\n",
       "      <th>DividendPerShare</th>\n",
       "      <th>DividendYield</th>\n",
       "      <th>EPS</th>\n",
       "      <th>RevenuePerShareTTM</th>\n",
       "      <th>ProfitMargin</th>\n",
       "      <th>OperatingMarginTTM</th>\n",
       "      <th>ReturnOnAssetsTTM</th>\n",
       "      <th>ReturnOnEquityTTM</th>\n",
       "      <th>RevenueTTM</th>\n",
       "      <th>GrossProfitTTM</th>\n",
       "      <th>DilutedEPSTTM</th>\n",
       "      <th>QuarterlyEarningsGrowthYOY</th>\n",
       "      <th>QuarterlyRevenueGrowthYOY</th>\n",
       "      <th>AnalystTargetPrice</th>\n",
       "      <th>TrailingPE</th>\n",
       "      <th>ForwardPE</th>\n",
       "      <th>PriceToSalesRatioTTM</th>\n",
       "      <th>PriceToBookRatio</th>\n",
       "      <th>EVToRevenue</th>\n",
       "      <th>EVToEBITDA</th>\n",
       "      <th>Beta</th>\n",
       "      <th>52WeekHigh</th>\n",
       "      <th>52WeekLow</th>\n",
       "      <th>50DayMovingAverage</th>\n",
       "      <th>200DayMovingAverage</th>\n",
       "      <th>SharesOutstanding</th>\n",
       "      <th>SharesFloat</th>\n",
       "      <th>SharesShort</th>\n",
       "      <th>SharesShortPriorMonth</th>\n",
       "      <th>ShortRatio</th>\n",
       "      <th>ShortPercentOutstanding</th>\n",
       "      <th>ShortPercentFloat</th>\n",
       "      <th>PercentInsiders</th>\n",
       "      <th>PercentInstitutions</th>\n",
       "      <th>ForwardAnnualDividendRate</th>\n",
       "      <th>ForwardAnnualDividendYield</th>\n",
       "      <th>PayoutRatio</th>\n",
       "      <th>DividendDate</th>\n",
       "      <th>ExDividendDate</th>\n",
       "      <th>LastSplitFactor</th>\n",
       "      <th>LastSplitDate</th>\n",
       "    </tr>\n",
       "  </thead>\n",
       "  <tbody>\n",
       "    <tr>\n",
       "      <th>0</th>\n",
       "      <td>NNDM</td>\n",
       "      <td>Common Stock</td>\n",
       "      <td>Nano Dimension Ltd</td>\n",
       "      <td>Nano Dimension Ltd., together with its subsidi...</td>\n",
       "      <td>NASDAQ</td>\n",
       "      <td>USD</td>\n",
       "      <td>USA</td>\n",
       "      <td>Technology</td>\n",
       "      <td>Computer Hardware</td>\n",
       "      <td>Ness-Ziona Science Park, Ness Ziona, Israel, 7...</td>\n",
       "      <td>68</td>\n",
       "      <td>December</td>\n",
       "      <td>2020-09-30</td>\n",
       "      <td>3271164160</td>\n",
       "      <td>-14278000</td>\n",
       "      <td>None</td>\n",
       "      <td>0</td>\n",
       "      <td>1.145</td>\n",
       "      <td>None</td>\n",
       "      <td>0</td>\n",
       "      <td>-0.45</td>\n",
       "      <td>0.155</td>\n",
       "      <td>0</td>\n",
       "      <td>-8.8981</td>\n",
       "      <td>-0.4209</td>\n",
       "      <td>-1.0198</td>\n",
       "      <td>3405000</td>\n",
       "      <td>2758000</td>\n",
       "      <td>-1.476</td>\n",
       "      <td>0</td>\n",
       "      <td>-0.805</td>\n",
       "      <td>10</td>\n",
       "      <td>0</td>\n",
       "      <td>0</td>\n",
       "      <td>195.8673</td>\n",
       "      <td>46.9995</td>\n",
       "      <td>716.875</td>\n",
       "      <td>0</td>\n",
       "      <td>2.5651</td>\n",
       "      <td>17.89</td>\n",
       "      <td>0.51</td>\n",
       "      <td>12.3515</td>\n",
       "      <td>5.6456</td>\n",
       "      <td>209690000</td>\n",
       "      <td>45019090</td>\n",
       "      <td>14067171</td>\n",
       "      <td>16638761</td>\n",
       "      <td>0.36</td>\n",
       "      <td>0.07</td>\n",
       "      <td>0</td>\n",
       "      <td>0</td>\n",
       "      <td>6.507</td>\n",
       "      <td>0</td>\n",
       "      <td>0</td>\n",
       "      <td>0</td>\n",
       "      <td>None</td>\n",
       "      <td>None</td>\n",
       "      <td>1:10</td>\n",
       "      <td>2019-10-22</td>\n",
       "    </tr>\n",
       "  </tbody>\n",
       "</table>\n",
       "</div>"
      ],
      "text/plain": [
       "  Symbol     AssetType                Name  \\\n",
       "0   NNDM  Common Stock  Nano Dimension Ltd   \n",
       "\n",
       "                                         Description Exchange Currency  \\\n",
       "0  Nano Dimension Ltd., together with its subsidi...   NASDAQ      USD   \n",
       "\n",
       "  Country      Sector           Industry  \\\n",
       "0     USA  Technology  Computer Hardware   \n",
       "\n",
       "                                             Address FullTimeEmployees  \\\n",
       "0  Ness-Ziona Science Park, Ness Ziona, Israel, 7...                68   \n",
       "\n",
       "  FiscalYearEnd LatestQuarter MarketCapitalization     EBITDA PERatio  \\\n",
       "0      December    2020-09-30           3271164160  -14278000    None   \n",
       "\n",
       "  PEGRatio BookValue DividendPerShare DividendYield    EPS RevenuePerShareTTM  \\\n",
       "0        0     1.145             None             0  -0.45              0.155   \n",
       "\n",
       "  ProfitMargin OperatingMarginTTM ReturnOnAssetsTTM ReturnOnEquityTTM  \\\n",
       "0            0            -8.8981           -0.4209           -1.0198   \n",
       "\n",
       "  RevenueTTM GrossProfitTTM DilutedEPSTTM QuarterlyEarningsGrowthYOY  \\\n",
       "0    3405000        2758000        -1.476                          0   \n",
       "\n",
       "  QuarterlyRevenueGrowthYOY AnalystTargetPrice TrailingPE ForwardPE  \\\n",
       "0                    -0.805                 10          0         0   \n",
       "\n",
       "  PriceToSalesRatioTTM PriceToBookRatio EVToRevenue EVToEBITDA    Beta  \\\n",
       "0             195.8673          46.9995     716.875          0  2.5651   \n",
       "\n",
       "  52WeekHigh 52WeekLow 50DayMovingAverage 200DayMovingAverage  \\\n",
       "0      17.89      0.51            12.3515              5.6456   \n",
       "\n",
       "  SharesOutstanding SharesFloat SharesShort SharesShortPriorMonth ShortRatio  \\\n",
       "0         209690000    45019090    14067171              16638761       0.36   \n",
       "\n",
       "  ShortPercentOutstanding ShortPercentFloat PercentInsiders  \\\n",
       "0                    0.07                 0               0   \n",
       "\n",
       "  PercentInstitutions ForwardAnnualDividendRate ForwardAnnualDividendYield  \\\n",
       "0               6.507                         0                          0   \n",
       "\n",
       "  PayoutRatio DividendDate ExDividendDate LastSplitFactor LastSplitDate  \n",
       "0           0         None           None            1:10    2019-10-22  "
      ]
     },
     "execution_count": 119,
     "metadata": {},
     "output_type": "execute_result"
    }
   ],
   "source": [
    "# Company Financial information \n",
    "# source: https://www.alphavantage.co/documentation/\n",
    "# alternate source: Scrape FinViz - https://towardsdatascience.com/get-up-to-date-financial-ratios-p-e-p-b-and-more-of-stocks-using-python-4b53dd82908f\n",
    "\n",
    "querystring = {\"function\":\"OVERVIEW\",\"symbol\":stock,\"apikey\":apikey}\n",
    "response = requests.request(\"GET\", url, params=querystring)\n",
    "# print(response.text)\n",
    "response_tbl = pd.json_normalize(response.json())\n",
    "(response_tbl)\n",
    "\n",
    "#ALTERNATIVE CODE\n",
    "# response = requests.get('https://www.alphavantage.co/query',\n",
    "#     params={\"function\":\"OVERVIEW\",\"symbol\":\"TSLA\",\"apikey\":apikey}\n",
    "# #     headers={'Authorization': '', 'Accept': 'application/json'}\n",
    "# )\n",
    "# print(response)\n",
    "# json_response = response.json()\n",
    "# print(response.status_code)\n",
    "# print(json_response)"
   ]
  },
  {
   "cell_type": "markdown",
   "metadata": {},
   "source": [
    "#  Balance Sheet\n",
    "Includes Annual & Quarterly financial filings"
   ]
  },
  {
   "cell_type": "code",
   "execution_count": 120,
   "metadata": {
    "scrolled": true
   },
   "outputs": [],
   "source": [
    "# Balance Sheet - This API returns the annual and quarterly balance sheets \n",
    "# for the company of interest. Data is generally refreshed on the same day a\n",
    "# company reports its latest earnings and financials.\n",
    "\n",
    "querystring = {\"function\":\"BALANCE_SHEET\",\n",
    "               \"symbol\":stock,\"apikey\":apikey}\n",
    "response = requests.request(\"GET\", url, params=querystring)\n",
    "Balance_Sheet_qtr = response.json()['quarterlyReports']\n",
    "Balance_Sheet_qtr = pd.json_normalize(Balance_Sheet_qtr)\n",
    "Balance_Sheet_qtr.insert(0,'Stock',stock)\n",
    "# Balance_Sheet_qtr['Stock'] = stock #alternative\n",
    "\n",
    "# Balance_Sheet_total = [annual,quarterly]\n",
    "# Balance_Sheet = pd.concat(Balance_Sheet)"
   ]
  },
  {
   "cell_type": "markdown",
   "metadata": {},
   "source": [
    "# Income Statement\n",
    "Includes Annual & Quarterly financial filings"
   ]
  },
  {
   "cell_type": "code",
   "execution_count": 104,
   "metadata": {
    "scrolled": true
   },
   "outputs": [],
   "source": [
    "# Income Statement - This API returns the annual and quarterly income \n",
    "# statements for the company of interest. Data is generally refreshed on \n",
    "# the same day a company reports its latest earnings and financials.\n",
    "\n",
    "querystring = {\"function\":\"INCOME_STATEMENT\",\n",
    "               \"symbol\":stock,\"apikey\":apikey}\n",
    "response = requests.request(\"GET\", url, params=querystring)\n",
    "Income_Statement_qtr = response.json()['quarterlyReports']\n",
    "Income_Statement_qtr = pd.json_normalize(Income_Statement_qtr)\n",
    "Income_Statement_qtr.insert(0,'Stock',stock)\n"
   ]
  },
  {
   "cell_type": "code",
   "execution_count": 105,
   "metadata": {
    "scrolled": true
   },
   "outputs": [],
   "source": [
    "# stock price today\n",
    "common_stock_qtr = int(Balance_Sheet_qtr['commonStock'][0])\n",
    "date= datetime.today() #date+' 11:00' #stock price on Qtr End Date\n",
    "stock_price_qtr=si.get_live_price(stock)\n",
    "\n",
    "## stock price on Qtr End Date\n",
    "# date = (Income_Statement_qtr['fiscalDateEnding'][0]) #stock price on Qtr End Date\n",
    "# datetime_object = datetime.strptime(date, '%Y-%m-%d %H:%M') \n",
    "# stock_price_qtr=yf.download(stock, start=date, end=date)['Adj Close'] #stock price on Qtr End Date"
   ]
  },
  {
   "cell_type": "markdown",
   "metadata": {},
   "source": [
    "# Key Ratios\n"
   ]
  },
  {
   "cell_type": "code",
   "execution_count": 106,
   "metadata": {},
   "outputs": [],
   "source": [
    "# Quarterly\n",
    "workcap_qtr = (int(Balance_Sheet_qtr['totalCurrentAssets'][0])-int(Balance_Sheet_qtr['totalCurrentLiabilities'][0]))\n",
    "total_assets_qtr = int(Balance_Sheet_qtr['totalAssets'][0])\n",
    "retained_earnings_qtr = int(Balance_Sheet_qtr['retainedEarnings'][0])\n",
    "total_liabilities_qtr = int(Balance_Sheet_qtr['totalLiabilities'][0])\n",
    "mkt_capt_qtr = common_stock_qtr*stock_price_qtr\n",
    "sales_qtr = Income_Statement_qtr['totalRevenue'][:4].astype(int).sum()\n",
    "EBIT_qtr = Income_Statement_qtr['ebit'][:4].astype(int).sum()"
   ]
  },
  {
   "cell_type": "markdown",
   "metadata": {},
   "source": [
    "# Altman Z Score\n",
    "Assumption: This formula is basically designed for publicly held manufacturing firms with values of more than $1 million of net worth.\n"
   ]
  },
  {
   "cell_type": "code",
   "execution_count": 107,
   "metadata": {
    "scrolled": true
   },
   "outputs": [
    {
     "data": {
      "text/plain": [
       "55.45620456788436"
      ]
     },
     "execution_count": 107,
     "metadata": {},
     "output_type": "execute_result"
    }
   ],
   "source": [
    "# Altman’s Z-Score: A numerical measurement used to predict the chances of a business going bankrupt in the next two years\n",
    "# source: https://corporatefinanceinstitute.com/resources/knowledge/credit/altmans-z-score-model/\n",
    "# The Z-score model is based on five key financial ratios, and it relies on the information contained in the 10-K report. \n",
    "# It increases the model’s accuracy when measuring the financial health of a company and its probability of going bankrupt.\n",
    "\n",
    "# ζ = 1.2A + 1.4B + 3.3C + 0.6D + 1.0E \n",
    "# Where: Zeta (ζ) is the Altman’s Z-score \n",
    "#     A is the Working Capital/Total Assets ratio - Firm Liquidity\n",
    "#     B is the Retained Earnings/Total Assets ratio - Profits compared to Assets\n",
    "#     C is the Earnings Before Interest and Tax/Total Assets ratio - Profits generated by Assets\n",
    "#     D is the Market Value of Equity/Total Liabilities ratio - Value versus Liabilities\n",
    "#     E is the Total Sales/Total Assets ratio - Asset Efficiency Ratio\n",
    "\n",
    "# Financial Distress - Zscore < 1.8; \n",
    "# Moderate Bankruptcy Risk - 1.8 < Zscore < 3; \n",
    "# Safe Zone - Zscore > 3\n",
    "A = workcap_qtr / total_assets_qtr\n",
    "B = retained_earnings_qtr / total_assets_qtr\n",
    "C = EBIT_qtr / total_assets_qtr\n",
    "D = mkt_capt_qtr / total_liabilities_qtr\n",
    "E = sales_qtr / total_assets_qtr\n",
    "\n",
    "Z = 1.2*A + 1.4*B + 3.3*C + 0.6*D + 1.0*E\n",
    "Z\n",
    "# print(\"A = {:.3n} B = {} C = {:.3n} D = {:.3n} E = {:.3n}\".format(A,B,C,D,E))"
   ]
  },
  {
   "cell_type": "markdown",
   "metadata": {},
   "source": [
    "# Altman Z Score\n",
    "Assumption: This formula is modified for the case of private firms"
   ]
  },
  {
   "cell_type": "code",
   "execution_count": 108,
   "metadata": {},
   "outputs": [
    {
     "data": {
      "text/plain": [
       "38.4873104627168"
      ]
     },
     "execution_count": 108,
     "metadata": {},
     "output_type": "execute_result"
    }
   ],
   "source": [
    "# Altman’s Z-Score: A numerical measurement used to predict the chances of a business going bankrupt in the next two years\n",
    "# source: https://corporatefinanceinstitute.com/resources/knowledge/credit/altmans-z-score-model/\n",
    "# The Z-score model is based on five key financial ratios, and it relies on the information contained in the 10-K report. \n",
    "# It increases the model’s accuracy when measuring the financial health of a company and its probability of going bankrupt.\n",
    "\n",
    "# ζ = 0.717A + 0.847B + 3.107C + 0.420D + 0.998E \n",
    "# Where: Zeta (ζ) is the Altman’s Z-score \n",
    "#     A is the Working Capital/Total Assets ratio \n",
    "#     B is the Retained Earnings/Total Assets ratio \n",
    "#     C is the Earnings Before Interest and Tax/Total Assets ratio \n",
    "#     D is the Book Value of Equity/Total Liabilities ratio \n",
    "#     E is the Total Sales/Total Assets ratio\n",
    "\n",
    "# Financial Distress - Zscore < 1.23; \n",
    "# Moderate Bankruptcy Risk - 1.23 < Zscore < 3; \n",
    "# Safe Zone - Zscore > 3\n",
    "A = workcap_qtr / total_assets_qtr\n",
    "B = retained_earnings_qtr / total_assets_qtr\n",
    "C = EBIT_qtr / total_assets_qtr\n",
    "D = mkt_capt_qtr / total_liabilities_qtr\n",
    "E = sales_qtr / total_assets_qtr\n",
    "\n",
    "Z = 0.717*A + 0.847*B + 3.107*C + 0.42*D + 0.998*E\n",
    "Z"
   ]
  },
  {
   "cell_type": "markdown",
   "metadata": {},
   "source": [
    "# Altman Z Score\n",
    "Assumption: This formula is modified for the case of non-manufacturing firms operating in emerging and developed markets."
   ]
  },
  {
   "cell_type": "code",
   "execution_count": 109,
   "metadata": {},
   "outputs": [
    {
     "data": {
      "text/plain": [
       "97.92369182239437"
      ]
     },
     "execution_count": 109,
     "metadata": {},
     "output_type": "execute_result"
    }
   ],
   "source": [
    "# Altman’s Z-Score: A numerical measurement used to predict the chances of a business going bankrupt in the next two years\n",
    "# source: https://corporatefinanceinstitute.com/resources/knowledge/credit/altmans-z-score-model/\n",
    "# The Z-score model is based on five key financial ratios, and it relies on the information contained in the 10-K report. \n",
    "# It increases the model’s accuracy when measuring the financial health of a company and its probability of going bankrupt.\n",
    "\n",
    "# Formula\n",
    "# Non-manufacturing firm, operating in developed markets\n",
    "# ζ = 6.56A + 3.26B + 6.72C + 1.05D \n",
    "# Non-manufacturing firm operating in emerging markets\n",
    "# ζ = 3.25 + 6.56A + 3.26B + 6.72C + 1.05D \n",
    "\n",
    "# Where: Zeta (ζ) is the Altman’s Z-score \n",
    "#     A is the Working Capital/Total Assets ratio \n",
    "#     B is the Retained Earnings/Total Assets ratio \n",
    "#     C is the Earnings Before Interest and Tax/Total Assets ratio \n",
    "#     D is the Book Value of Equity/Total Liabilities ratio \n",
    "\n",
    "# Financial Distress - Zscore < 1.1; \n",
    "# Moderate Bankruptcy Risk - 1.1 < Zscore < 2.6; \n",
    "# Safe Zone - Zscore > 2.6\n",
    "A = workcap_qtr / total_assets_qtr\n",
    "B = retained_earnings_qtr / total_assets_qtr\n",
    "C = EBIT_qtr / total_assets_qtr\n",
    "D = mkt_capt_qtr / total_liabilities_qtr\n",
    "E = sales_qtr / total_assets_qtr\n",
    "\n",
    "Z = 6.65*A + 3.26*B + 6.72*C + 1.05*D\n",
    "Z"
   ]
  },
  {
   "cell_type": "markdown",
   "metadata": {},
   "source": [
    "# Cash Flow Statement\n",
    "Includes Annual & Quarterly financial filings"
   ]
  },
  {
   "cell_type": "code",
   "execution_count": 122,
   "metadata": {
    "scrolled": true
   },
   "outputs": [],
   "source": [
    "# Cash Flow - This API returns the annual and quarterly cash flows \n",
    "# for the company of interest. Data is generally refreshed on the same day a \n",
    "# company reports its latest earnings and financials.\n",
    "\n",
    "querystring = {\"function\":\"CASH_FLOW\",\n",
    "               \"symbol\":stock,\"apikey\":apikey}\n",
    "response = requests.request(\"GET\", url, params=querystring)\n",
    "Cashflow_ann = response.json()['annualReports']\n",
    "Cashflow_ann = pd.json_normalize(Cashflow_ann)\n",
    "Cashflow_ann.insert(0,'Stock',stock)\n",
    "\n",
    "Cashflow_qtr = response.json()['quarterlyReports']\n",
    "Cashflow_qtr = pd.json_normalize(Cashflow_qtr)\n",
    "Cashflow_qtr.insert(0,'Stock',stock)"
   ]
  },
  {
   "cell_type": "code",
   "execution_count": 121,
   "metadata": {
    "scrolled": true
   },
   "outputs": [],
   "source": [
    "# Earnings - This API returns the annual and quarterly earnings (EPS) \n",
    "# for the company of interest. Quarterly data also includes analyst \n",
    "# estimates and surprise metrics.\n",
    "\n",
    "querystring = {\"function\":\"EARNINGS\",\n",
    "               \"symbol\":stock,\"apikey\":apikey}\n",
    "response = requests.request(\"GET\", url, params=querystring)\n",
    "Earnings_ann = response.json()['annualEarnings']\n",
    "Earnings_ann = pd.json_normalize(Earnings_ann)\n",
    "Earnings_ann.insert(0,'Stock',stock)\n",
    "\n",
    "Earnings_qtr = response.json()['quarterlyEarnings']\n",
    "Earnings_qtr = pd.json_normalize(Earnings_qtr)\n",
    "Earnings_qtr.insert(0,'Stock',stock)\n"
   ]
  },
  {
   "cell_type": "code",
   "execution_count": null,
   "metadata": {},
   "outputs": [],
   "source": [
    "# Listing & Delisting Status - This API returns a list of active or delisted\n",
    "# US stocks and ETFs, either as of the latest trading day or at a specific \n",
    "# time in history. The endpoint is positioned to facilitate equity research\n",
    "# on asset lifecycle and survivorship.\n",
    "from io import StringIO\n",
    "\n",
    "#delisted stocks as of the latest trading day\n",
    "querystring = {\"function\":\"LISTING_STATUS\",\"state\":\"delisted\",\"apikey\":apikey}\n",
    "response = requests.request(\"GET\", url, params=querystring)\n",
    "delisted=pd.read_csv(StringIO(response.text))\n",
    "\n",
    "#active stocks as of the latest trading day\n",
    "querystring = {\"function\":\"LISTING_STATUS\",\"state\":\"active\",\"apikey\":apikey}\n",
    "response = requests.request(\"GET\", url, params=querystring)\n",
    "active=pd.read_csv(StringIO(response.text))"
   ]
  }
 ],
 "metadata": {
  "kernelspec": {
   "display_name": "Python 3",
   "language": "python",
   "name": "python3"
  },
  "language_info": {
   "codemirror_mode": {
    "name": "ipython",
    "version": 3
   },
   "file_extension": ".py",
   "mimetype": "text/x-python",
   "name": "python",
   "nbconvert_exporter": "python",
   "pygments_lexer": "ipython3",
   "version": "3.7.9"
  }
 },
 "nbformat": 4,
 "nbformat_minor": 4
}
